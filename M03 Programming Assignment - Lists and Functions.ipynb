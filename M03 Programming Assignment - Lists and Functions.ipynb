{
 "cells": [
  {
   "cell_type": "markdown",
   "id": "49f157c9",
   "metadata": {},
   "source": [
    "7.4"
   ]
  },
  {
   "cell_type": "code",
   "execution_count": 3,
   "id": "73b4ab96",
   "metadata": {},
   "outputs": [],
   "source": [
    "things = ['mozzarella', 'cinderella', 'salmonella']"
   ]
  },
  {
   "cell_type": "markdown",
   "id": "744ea52c",
   "metadata": {},
   "source": [
    "7.5 -Yes, this will change the element in the list."
   ]
  },
  {
   "cell_type": "code",
   "execution_count": 4,
   "id": "6d5f12f2",
   "metadata": {},
   "outputs": [
    {
     "name": "stdout",
     "output_type": "stream",
     "text": [
      "['mozzarella', 'Cinderella', 'salmonella']\n"
     ]
    }
   ],
   "source": [
    "things[1] = 'Cinderella'\n",
    "print(things)"
   ]
  },
  {
   "cell_type": "markdown",
   "id": "fd1b361f",
   "metadata": {},
   "source": [
    "7.6"
   ]
  },
  {
   "cell_type": "code",
   "execution_count": 5,
   "id": "48deccae",
   "metadata": {},
   "outputs": [
    {
     "name": "stdout",
     "output_type": "stream",
     "text": [
      "['MOZZARELLA', 'Cinderella', 'salmonella']\n"
     ]
    }
   ],
   "source": [
    "things[0]= 'MOZZARELLA'\n",
    "print(things)"
   ]
  },
  {
   "cell_type": "markdown",
   "id": "f466bc7f",
   "metadata": {},
   "source": [
    "7.7"
   ]
  },
  {
   "cell_type": "code",
   "execution_count": 6,
   "id": "ebb336ba",
   "metadata": {},
   "outputs": [
    {
     "name": "stdout",
     "output_type": "stream",
     "text": [
      "I collect my Nobel Prize\n",
      "['MOZZARELLA', 'Cinderella']\n"
     ]
    }
   ],
   "source": [
    "things.remove('salmonella')\n",
    "print(\"I collect my Nobel Prize\")\n",
    "print(things)"
   ]
  },
  {
   "cell_type": "markdown",
   "id": "d787f066",
   "metadata": {},
   "source": [
    "9.1"
   ]
  },
  {
   "cell_type": "code",
   "execution_count": 14,
   "id": "69043a74",
   "metadata": {},
   "outputs": [],
   "source": [
    "def good():\n",
    "    good_list = ['Harry', 'Ron', 'Hermione']\n",
    "    return good_list"
   ]
  },
  {
   "cell_type": "markdown",
   "id": "a2bead2f",
   "metadata": {},
   "source": [
    "9.2"
   ]
  },
  {
   "cell_type": "code",
   "execution_count": 13,
   "id": "287bb915",
   "metadata": {},
   "outputs": [
    {
     "name": "stdout",
     "output_type": "stream",
     "text": [
      "5\n"
     ]
    }
   ],
   "source": [
    "def get_odds():\n",
    "    for odd in range(10):\n",
    "        if odd % 2 !=0:\n",
    "            yield odd\n",
    "odd_list = list(get_odds())\n",
    "print(odd_list[2])\n",
    "    "
   ]
  },
  {
   "cell_type": "code",
   "execution_count": null,
   "id": "01094ef5",
   "metadata": {},
   "outputs": [],
   "source": []
  }
 ],
 "metadata": {
  "kernelspec": {
   "display_name": "Python 3 (ipykernel)",
   "language": "python",
   "name": "python3"
  },
  "language_info": {
   "codemirror_mode": {
    "name": "ipython",
    "version": 3
   },
   "file_extension": ".py",
   "mimetype": "text/x-python",
   "name": "python",
   "nbconvert_exporter": "python",
   "pygments_lexer": "ipython3",
   "version": "3.11.4"
  }
 },
 "nbformat": 4,
 "nbformat_minor": 5
}
